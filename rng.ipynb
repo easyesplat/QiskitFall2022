{
 "cells": [
  {
   "cell_type": "code",
   "execution_count": 3,
   "metadata": {},
   "outputs": [],
   "source": [
    "%matplotlib inline\n",
    "# Importing standard Qiskit libraries and configuring account\n",
    "from qiskit import QuantumRegister, ClassicalRegister, execute\n",
    "from qiskit import QuantumCircuit, execute, Aer, IBMQ\n",
    "from qiskit.compiler import transpile, assemble\n",
    "from qiskit.tools.jupyter import *\n",
    "from qiskit.visualization import plot_state_city\n",
    "import matplotlib.pyplot as plt\n",
    "# Loading your IBM Q account(s)\n",
    "IBMQ.load_account()\n",
    "import numpy as np"
   ]
  },
  {
   "cell_type": "code",
   "execution_count": 4,
   "metadata": {},
   "outputs": [],
   "source": [
    "def real_map(value, leftMin, leftMax, rightMin, rightMax):\n",
    "    # Maps one range to another\n",
    "    # Figure out how 'wide' each range is\n",
    "    leftSpan = leftMax - leftMin\n",
    "    rightSpan = rightMax - rightMin\n",
    "\n",
    "    # Convert the left range into a 0-1 range (float)\n",
    "    valueScaled = float(value - leftMin) / float(leftSpan)\n",
    "\n",
    "    # Convert the 0-1 range into a value in the right range.\n",
    "    return rightMin + (valueScaled * rightSpan)"
   ]
  },
  {
   "cell_type": "code",
   "execution_count": 13,
   "metadata": {},
   "outputs": [],
   "source": [
    "def QRandom(a, b, qubits=2):\n",
    "    # Quantum Random Number generator\n",
    "    q = QuantumRegister(qubits, 'q')\n",
    "    circ = QuantumCircuit(q)\n",
    "    c0 = ClassicalRegister(2, 'c0')\n",
    "    circ.add_register(c0)\n",
    "\n",
    "    for i in range(qubits):\n",
    "        circ.h(q[i])\n",
    "\n",
    "\n",
    "    for i in range(qubits):\n",
    "        circ.measure(q[i], c0)\n",
    "\n",
    "    #circ.draw(output='mpl')\n",
    "\n",
    "\n",
    "    backend = Aer.get_backend('statevector_simulator')\n",
    "    job = execute(circ, backend)\n",
    "    #print(job.status())\n",
    "    result = job.result()\n",
    "    output = result.get_statevector(circ, decimals=5)\n",
    "\n",
    "    n1 = 0\n",
    "    n2 = 0\n",
    "    n3 = 0\n",
    "    for i in range( output.dim ):\n",
    "        if abs(output[i]) != 0:\n",
    "            #print(i, output[i])\n",
    "            n1 = i\n",
    "            n2 = np.real(output[i])\n",
    "            n3 = np.imag(output[i])\n",
    "    \n",
    "    y = real_map(n1+n2+n3, -qubits, len(output)-1+qubits, a, b) \n",
    "    plot_state_city(output)\n",
    "    return y"
   ]
  },
  {
   "cell_type": "code",
   "execution_count": 19,
   "metadata": {},
   "outputs": [
    {
     "name": "stdout",
     "output_type": "stream",
     "text": [
      "2.5384615384615383\n"
     ]
    }
   ],
   "source": [
    "# x = []\n",
    "# for i in range(40):\n",
    "#     x.append( QRandom(0, 100,3) )\n",
    " \n",
    "print(QRandom(0,3,3))\n",
    "\n",
    "#plt.plot(x)"
   ]
  }
 ],
 "metadata": {
  "kernelspec": {
   "display_name": "Python 3.9.7 ('qiskit_project': venv)",
   "language": "python",
   "name": "python3"
  },
  "language_info": {
   "codemirror_mode": {
    "name": "ipython",
    "version": 3
   },
   "file_extension": ".py",
   "mimetype": "text/x-python",
   "name": "python",
   "nbconvert_exporter": "python",
   "pygments_lexer": "ipython3",
   "version": "3.9.7"
  },
  "orig_nbformat": 4,
  "vscode": {
   "interpreter": {
    "hash": "9d9bb6698b45af13246c45439f62eee3d3a392eb7fcdcb20a77a37522ae95708"
   }
  }
 },
 "nbformat": 4,
 "nbformat_minor": 2
}
